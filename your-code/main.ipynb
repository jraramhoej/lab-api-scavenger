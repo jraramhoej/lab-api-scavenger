{
 "cells": [
  {
   "cell_type": "markdown",
   "id": "2605324e",
   "metadata": {},
   "source": [
    "## Challenge 1: Fork languages\n",
    "\n",
    "1. Obtain the full list of forks created from the main lab repo via Github API.\n",
    "2. Loop the JSON response to find out the language attribute of each fork. Use an array to store the language attributes of each fork.\n",
    "3. Print the language array. It should be something like: [\"Python\", \"Jupyter Notebook\", \"HTML\"]"
   ]
  },
  {
   "cell_type": "code",
   "execution_count": 1,
   "id": "90070c94",
   "metadata": {},
   "outputs": [],
   "source": [
    "# import libraries\n",
    "import requests\n",
    "from requests.auth import HTTPBasicAuth\n",
    "from getpass import getpass"
   ]
  },
  {
   "cell_type": "code",
   "execution_count": 2,
   "id": "a53facca",
   "metadata": {},
   "outputs": [
    {
     "name": "stdout",
     "output_type": "stream",
     "text": [
      "········\n"
     ]
    }
   ],
   "source": [
    "# define url\n",
    "url = \"https://api.github.com/repos/ironhack-datalabs/bcn-feb-2019/forks\"\n",
    "\n",
    "# use getpass to insert password\n",
    "password = getpass()\n",
    "\n",
    "# define request\n",
    "result = requests.get(url, auth=HTTPBasicAuth('jraramhoej', password))"
   ]
  },
  {
   "cell_type": "code",
   "execution_count": 8,
   "id": "a032a146",
   "metadata": {},
   "outputs": [
    {
     "name": "stdout",
     "output_type": "stream",
     "text": [
      "{None, 'Jupyter Notebook'}\n"
     ]
    }
   ],
   "source": [
    "# define empty set (we want unique languages)\n",
    "languages = set()\n",
    "\n",
    "# loop through list of forks and add language to empty set\n",
    "for fork in result.json():\n",
    "    languages.add(fork[\"language\"])\n",
    "\n",
    "# print languages\n",
    "print(languages)"
   ]
  },
  {
   "cell_type": "markdown",
   "id": "8015e253",
   "metadata": {},
   "source": [
    "## Challenge 2:  Count Commits\n",
    "\n",
    "1. Obtain all the commits made in the past 2 weeks via API, which is a JSON array that contains multiple commit objects.\n",
    "2. Count how many commit objects are contained in the array."
   ]
  },
  {
   "cell_type": "code",
   "execution_count": 21,
   "id": "e343ec45",
   "metadata": {},
   "outputs": [
    {
     "name": "stdout",
     "output_type": "stream",
     "text": [
      "········\n"
     ]
    }
   ],
   "source": [
    "# define url\n",
    "url = \"https://api.github.com/repos/ta-data-lis/lab-mysql-first-queries/commits\"\n",
    "\n",
    "# use getpass to insert password\n",
    "password = getpass()\n",
    "\n",
    "# define two week period\n",
    "params = {\"since\": \"2021-05-0915:00:000\"}\n",
    "\n",
    "# define request\n",
    "result = requests.get(url, auth=HTTPBasicAuth('jraramhoej', password), params=params)"
   ]
  },
  {
   "cell_type": "code",
   "execution_count": 22,
   "id": "77caf046",
   "metadata": {},
   "outputs": [
    {
     "data": {
      "text/plain": [
       "0"
      ]
     },
     "execution_count": 22,
     "metadata": {},
     "output_type": "execute_result"
    }
   ],
   "source": [
    "# get the length of the list of commits for the last two weeks\n",
    "len(result.json())"
   ]
  }
 ],
 "metadata": {
  "kernelspec": {
   "display_name": "Python 3",
   "language": "python",
   "name": "python3"
  },
  "language_info": {
   "codemirror_mode": {
    "name": "ipython",
    "version": 3
   },
   "file_extension": ".py",
   "mimetype": "text/x-python",
   "name": "python",
   "nbconvert_exporter": "python",
   "pygments_lexer": "ipython3",
   "version": "3.7.10"
  }
 },
 "nbformat": 4,
 "nbformat_minor": 5
}
